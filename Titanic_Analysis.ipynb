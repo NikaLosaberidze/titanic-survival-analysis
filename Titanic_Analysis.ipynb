{
 "cells": [
  {
   "cell_type": "markdown",
   "id": "064243fb",
   "metadata": {},
   "source": [
    "# Titanic Survival Analysis 🚢\n",
    "\n",
    "This notebook explores the Titanic dataset to analyze which factors influenced passenger survival.  \n",
    "\n",
    "---\n"
   ]
  },
  {
   "cell_type": "code",
   "execution_count": null,
   "id": "72c3acf2",
   "metadata": {},
   "outputs": [],
   "source": [
    "import os\n",
    "import pandas as pd\n",
    "import matplotlib.pyplot as plt\n",
    "import seaborn as sns\n",
    "\n",
    "sns.set_theme(style=\"whitegrid\", context=\"notebook\")\n",
    "\n",
    "# Create images folder if not exists\n",
    "os.makedirs(\"images\", exist_ok=True)\n",
    "\n",
    "def save_show_plot(fig1, filename):\n",
    "    \"\"\"Save plot to images/ and display it\"\"\"\n",
    "    filepath = os.path.join(\"images\", filename)\n",
    "    fig1.savefig(filepath, bbox_inches=\"tight\", dpi=300)\n",
    "    plt.show()\n"
   ]
  },
  {
   "cell_type": "markdown",
   "id": "251e00d0",
   "metadata": {},
   "source": [
    "## 📂 Load and Inspect the Data\n"
   ]
  },
  {
   "cell_type": "code",
   "execution_count": null,
   "id": "2906a235",
   "metadata": {},
   "outputs": [],
   "source": [
    "CSV_PATH = 'data/titanic.csv'\n",
    "df = pd.read_csv(CSV_PATH)\n",
    "df = df.drop('Cabin', axis=1)\n",
    "\n",
    "# Check missing values\n",
    "df.isna().sum()\n"
   ]
  },
  {
   "cell_type": "markdown",
   "id": "728beaa2",
   "metadata": {},
   "source": [
    "## 🛠 Data Cleaning\n",
    "- Fill missing `Embarked` values using the most common port for respectable class passengers.\n",
    "- Fill missing `Age` values with the median of passengers grouped by class and sex.\n"
   ]
  },
  {
   "cell_type": "code",
   "execution_count": null,
   "id": "958f169e",
   "metadata": {},
   "outputs": [],
   "source": [
    "count_by_embarked_letter = df[df['Pclass'] == 1].groupby('Embarked').count()['PassengerId']\n",
    "df['Embarked'] = df['Embarked'].fillna(count_by_embarked_letter.idxmax())\n",
    "\n",
    "df['Age'] = df.groupby(['Pclass','Sex'])['Age'].transform(lambda x: x.fillna(x.median()))\n"
   ]
  },
  {
   "cell_type": "markdown",
   "id": "24ae2497",
   "metadata": {},
   "source": [
    "## ➕ Feature Engineering\n",
    "- Create `AgeGroup` bins\n",
    "- Create `FamilySize` and `IsAlone` features\n"
   ]
  },
  {
   "cell_type": "code",
   "execution_count": null,
   "id": "1ec694db",
   "metadata": {},
   "outputs": [],
   "source": [
    "bins = [0, 12, 19, 35, 55, 100]\n",
    "labels = ['Child', 'Teen', 'Adult', 'MiddleAge', 'Elder']\n",
    "df['AgeGroup'] = pd.cut(df['Age'], bins, labels=labels)\n",
    "\n",
    "df['FamilySize'] = df['SibSp'] + df['Parch'] + 1\n",
    "df['IsAlone'] = (df['FamilySize'] == 1).astype(int)\n"
   ]
  },
  {
   "cell_type": "markdown",
   "id": "d6a80462",
   "metadata": {},
   "source": [
    "## Survival by Sex\n"
   ]
  },
  {
   "cell_type": "code",
   "execution_count": null,
   "id": "d1d714d9",
   "metadata": {},
   "outputs": [],
   "source": [
    "fig, ax = plt.subplots(figsize=(8,5))\n",
    "sns.barplot(\n",
    "    x='Sex', y='Survived',\n",
    "    hue='Sex', data=df,\n",
    "    palette={\"male\":\"#2196F3\", \"female\":\"#E91E63\"},\n",
    "    legend=False, ax=ax\n",
    ")\n",
    "plt.title('Females Had Higher Survival Rate Than Males', fontsize=14, fontweight='bold')\n",
    "plt.ylabel(\"Survival Rate\")\n",
    "\n",
    "save_show_plot(fig, \"survival_by_sex.png\")\n"
   ]
  },
  {
   "cell_type": "markdown",
   "id": "a29f2bce",
   "metadata": {},
   "source": [
    "## Did Traveling Alone Affect Survival?"
   ]
  },
  {
   "cell_type": "code",
   "execution_count": null,
   "id": "d37e103b",
   "metadata": {},
   "outputs": [],
   "source": [
    "fig, ax = plt.subplots(figsize=(8,5))\n",
    "sns.barplot(\n",
    "    x='IsAlone', y='Survived',\n",
    "    hue='IsAlone', data=df,\n",
    "    palette={0:\"#4CAF50\", 1:\"#F44336\"},\n",
    "    legend=False, ax=ax\n",
    ")\n",
    "plt.title('People Traveling Alone Had Lower Survival Rate', fontsize=14, fontweight='bold')\n",
    "plt.xlabel(\"Is Alone (0 = No, 1 = Yes)\")\n",
    "plt.ylabel(\"Survival Rate\")\n",
    "plt.show()\n",
    "\n",
    "save_show_plot(fig, \"survival_by_alone.png\")"
   ]
  },
  {
   "cell_type": "markdown",
   "id": "d3a06d9c",
   "metadata": {},
   "source": [
    "## Survival by class"
   ]
  },
  {
   "cell_type": "code",
   "execution_count": null,
   "id": "98ce97ff",
   "metadata": {},
   "outputs": [],
   "source": [
    "fig, ax = plt.subplots(figsize=(8,5))\n",
    "sns.barplot(\n",
    "    x='Pclass', y='Survived',\n",
    "    hue='Pclass', data=df,\n",
    "    palette={1:\"#8BC34A\", 2:\"#FFC107\", 3:\"#F44336\"},\n",
    "    legend=False, ax=ax\n",
    ")\n",
    "plt.title('Higher Classes Had Higher Survival Rate', fontsize=14, fontweight='bold')\n",
    "plt.xlabel(\"Passenger Class\")\n",
    "plt.ylabel(\"Survival Rate\")\n",
    "plt.show()\n",
    "\n",
    "save_show_plot(fig, \"survival_by_class.png\")"
   ]
  },
  {
   "cell_type": "markdown",
   "id": "76c99dd1",
   "metadata": {},
   "source": [
    "## Age Distribution by Survival Status"
   ]
  },
  {
   "cell_type": "code",
   "execution_count": null,
   "id": "5f5220e9",
   "metadata": {},
   "outputs": [],
   "source": [
    "fig, ax = plt.subplots(figsize=(10,6))\n",
    "sns.histplot(\n",
    "    data=df, x='Age', hue='Survived',\n",
    "    bins=20, kde=True, alpha=0.6,\n",
    "    palette={0:\"#F44336\", 1:\"#4CAF50\"}\n",
    ")\n",
    "plt.title('Children Had Higher Survival Rate Than Adults', fontsize=14, fontweight='bold')\n",
    "plt.xlabel(\"Age\")\n",
    "plt.ylabel(\"Count\")\n",
    "plt.show()"
   ]
  },
  {
   "cell_type": "markdown",
   "id": "4dc9c1f6",
   "metadata": {},
   "source": [
    "## Survival by Fare"
   ]
  },
  {
   "cell_type": "code",
   "execution_count": null,
   "id": "76da65fa",
   "metadata": {},
   "outputs": [],
   "source": [
    "fig, ax = plt.subplots(figsize=(8,6))\n",
    "sns.boxplot(\n",
    "    x='Survived', y='Fare',\n",
    "    hue='Survived', data=df,\n",
    "    palette={0:\"#d9d9d9\", 1:\"#a6bddb\"},\n",
    "    dodge=False, legend=False, ax=ax\n",
    ")\n",
    "plt.title('Survivors Paid Higher Fares', fontsize=14, fontweight='bold')\n",
    "plt.xlabel(\"Survival\")\n",
    "plt.ylabel(\"Fare\")\n",
    "plt.show()\n",
    "\n",
    "save_show_plot(fig, \"fare_boxplot.png\")"
   ]
  },
  {
   "cell_type": "markdown",
   "id": "9abe183c",
   "metadata": {},
   "source": [
    "## Correlation Heatmap"
   ]
  },
  {
   "cell_type": "code",
   "execution_count": null,
   "id": "e89414ab",
   "metadata": {},
   "outputs": [],
   "source": [
    "# Compute correlation\n",
    "corr = df[['Age','Fare','FamilySize','IsAlone','Pclass','Survived']].corr()\n",
    "\n",
    "fig, ax = plt.subplots(figsize=(8,6))\n",
    "sns.heatmap(\n",
    "    corr, annot=True, fmt=\".2f\",\n",
    "    cmap=\"coolwarm\", center=0, cbar=True,\n",
    "    linewidths=0.5, linecolor='white',\n",
    "    square=True, annot_kws={\"size\":10},\n",
    "    vmin=-1, vmax=1\n",
    ")\n",
    "plt.title(\"Correlation Heatmap\", fontsize=14, fontweight=\"bold\", pad=12)\n",
    "plt.show()\n",
    "\n",
    "save_show_plot(fig, \"correlation_heatmap.png\")\n"
   ]
  },
  {
   "cell_type": "markdown",
   "id": "64eb0a04",
   "metadata": {},
   "source": [
    "## ✅ Conclusions\n",
    "\n",
    "- Women and children had higher survival rates.\n",
    "- First-class passengers were more likely to survive.\n",
    "- Traveling alone reduced survival chances.\n",
    "- Higher fares correlated with higher survival probability.\n",
    "\n",
    "---\n",
    "\n",
    "**Nika Losaberidze**\n"
   ]
  }
 ],
 "metadata": {
  "kernelspec": {
   "display_name": "Python 3",
   "language": "python",
   "name": "python3"
  },
  "language_info": {
   "codemirror_mode": {
    "name": "ipython",
    "version": 3
   },
   "file_extension": ".py",
   "mimetype": "text/x-python",
   "name": "python",
   "nbconvert_exporter": "python",
   "pygments_lexer": "ipython3",
   "version": "3.13.7"
  }
 },
 "nbformat": 4,
 "nbformat_minor": 5
}
